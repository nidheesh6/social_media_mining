{
 "cells": [
  {
   "cell_type": "markdown",
   "metadata": {},
   "source": [
    "reading the trending topics from a JSON file"
   ]
  },
  {
   "cell_type": "code",
   "execution_count": 1,
   "metadata": {},
   "outputs": [],
   "source": [
    "import json\n",
    "json1_file = open('november28.json')\n",
    "json1_str = json1_file.read()\n",
    "json1_data = json.loads(json1_str)"
   ]
  },
  {
   "cell_type": "code",
   "execution_count": 2,
   "metadata": {},
   "outputs": [],
   "source": [
    "d=json1_data\n"
   ]
  },
  {
   "cell_type": "markdown",
   "metadata": {},
   "source": [
    "reading the city ,woeids from the city data file"
   ]
  },
  {
   "cell_type": "code",
   "execution_count": 3,
   "metadata": {},
   "outputs": [],
   "source": [
    "import pandas as pd\n",
    "data=pd.DataFrame()\n",
    "data=pd.read_csv('woeids.csv')\n",
    "k=data[['city','woeid']]\n",
    "t=tuple(k['city'][:40])\n"
   ]
  },
  {
   "cell_type": "code",
   "execution_count": 4,
   "metadata": {},
   "outputs": [],
   "source": [
    "i=0\n",
    "d1={}\n",
    "for i in range(40):\n",
    "    if(len(d[t[i]])>10):\n",
    "        d1[t[i]]=d[t[i]][:10]\n",
    "    else:\n",
    "        d1[t[i]]=d[t[i]]\n",
    "        \n",
    "    "
   ]
  },
  {
   "cell_type": "markdown",
   "metadata": {},
   "source": [
    "generating the graph using the networkx module "
   ]
  },
  {
   "cell_type": "code",
   "execution_count": 5,
   "metadata": {},
   "outputs": [],
   "source": [
    "import networkx as nx\n",
    "g=nx.Graph()\n",
    "g.add_nodes_from(t)\n",
    "trend='#CashAppBlackFriday'\n",
    "for i in range(40):\n",
    "    for j in range(40):\n",
    "        j1=0\n",
    "        i1=0\n",
    "        for j1 in range(40):\n",
    "            if trend in d1[t[j]]:\n",
    "                i1=i1+1\n",
    "        if i1>5:\n",
    "            if trend in d1[t[i]] and trend in d1[t[j]] and t[i]!=t[j]:\n",
    "                g.add_edge(t[i],t[j])"
   ]
  },
  {
   "cell_type": "code",
   "execution_count": null,
   "metadata": {},
   "outputs": [],
   "source": [
    "writing the file to a gml file"
   ]
  },
  {
   "cell_type": "code",
   "execution_count": 8,
   "metadata": {},
   "outputs": [],
   "source": [
    "g.edges()\n",
    "nx.write_gml(g,'cashapp.gml')"
   ]
  },
  {
   "cell_type": "code",
   "execution_count": 9,
   "metadata": {},
   "outputs": [
    {
     "data": {
      "image/png": "[encoded data removed]",
      "text/plain": [
       "<Figure size 432x288 with 1 Axes>"
      ]
     },
     "metadata": {},
     "output_type": "display_data"
    }
   ],
   "source": [
    "import matplotlib.pyplot as plt\n",
    "nx.draw(g)"
   ]
  },
  {
   "cell_type": "code",
   "execution_count": 10,
   "metadata": {},
   "outputs": [],
   "source": [
    "cop=d1"
   ]
  },
  {
   "cell_type": "code",
   "execution_count": 12,
   "metadata": {},
   "outputs": [
    {
     "data": {
      "text/plain": [
       "10"
      ]
     },
     "execution_count": 12,
     "metadata": {},
     "output_type": "execute_result"
    }
   ],
   "source": [
    "len(cop[t[1]])"
   ]
  },
  {
   "cell_type": "markdown",
   "metadata": {},
   "source": [
    "writing the common trends to a excel file"
   ]
  },
  {
   "cell_type": "markdown",
   "metadata": {},
   "source": [
    "import xlwt \n",
    "from xlwt import Workbook \n",
    "wb = Workbook()\n",
    "sheet1 = wb.add_sheet('Sheet 1')\n",
    "i1=0\n",
    "i2=0\n",
    "for i1 in range(40):\n",
    "    for i2 in range(40):\n",
    "        if i1!=1 :\n",
    "            i=0\n",
    "            j=0\n",
    "            for i in range(10):\n",
    "                if cop[t[i1]][i] in cop[t[i2]]:\n",
    "                    j=j+1\n",
    "            sheet1.write(i1,i2, j) \n",
    "wb.save('common.xls')\n",
    "            "
   ]
  }
 ],
 "metadata": {
  "kernelspec": {
   "display_name": "Python 3",
   "language": "python",
   "name": "python3"
  },
  "language_info": {
   "codemirror_mode": {
    "name": "ipython",
    "version": 3
   },
   "file_extension": ".py",
   "mimetype": "text/x-python",
   "name": "python",
   "nbconvert_exporter": "python",
   "pygments_lexer": "ipython3",
   "version": "3.7.3"
  }
 },
 "nbformat": 4,
 "nbformat_minor": 2
}
